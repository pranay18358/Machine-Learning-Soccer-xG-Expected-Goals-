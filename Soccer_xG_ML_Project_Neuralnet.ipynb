{
  "nbformat": 4,
  "nbformat_minor": 0,
  "metadata": {
    "colab": {
      "name": "Soccer xG ML_Project Neuralnet.ipynb",
      "provenance": [],
      "collapsed_sections": []
    },
    "kernelspec": {
      "name": "python3",
      "display_name": "Python 3"
    },
    "language_info": {
      "name": "python"
    }
  },
  "cells": [
    {
      "cell_type": "code",
      "metadata": {
        "id": "wovCkpMpgpJy"
      },
      "source": [
        "import warnings\n",
        "warnings.simplefilter(action='ignore', category=FutureWarning)"
      ],
      "execution_count": null,
      "outputs": []
    },
    {
      "cell_type": "code",
      "metadata": {
        "id": "a8EmDwKIiMJy"
      },
      "source": [
        "import pandas as pd\n",
        "import numpy as np\n",
        "from sklearn.metrics import confusion_matrix\n",
        "from sklearn.metrics import accuracy_score\n",
        "from sklearn.metrics import brier_score_loss\n",
        "from google.colab import drive\n",
        "import matplotlib.pyplot as plt"
      ],
      "execution_count": null,
      "outputs": []
    },
    {
      "cell_type": "code",
      "metadata": {
        "colab": {
          "base_uri": "https://localhost:8080/"
        },
        "id": "nT_GyEp4ytUB",
        "outputId": "ebf73e5d-70bb-4146-adcd-36db261a9e2f"
      },
      "source": [
        "from google.colab import drive\n",
        "drive.mount('/content/drive')"
      ],
      "execution_count": null,
      "outputs": [
        {
          "output_type": "stream",
          "text": [
            "Mounted at /content/drive\n"
          ],
          "name": "stdout"
        }
      ]
    },
    {
      "cell_type": "markdown",
      "metadata": {
        "id": "sBSLApiJ2qlM"
      },
      "source": [
        "# Importing and Preparing the data "
      ]
    },
    {
      "cell_type": "code",
      "metadata": {
        "id": "mLt66hFcru18"
      },
      "source": [
        "df_events=pd.read_csv(\"/content/drive/MyDrive/MData/features.csv\")\n",
        "df_events.drop(['game_id','action_id'],axis='columns', inplace=True) #Absolutely useless columns\n",
        "df_results =pd.read_csv(\"/content/drive/MyDrive/MData/labels.csv\") "
      ],
      "execution_count": null,
      "outputs": []
    },
    {
      "cell_type": "code",
      "metadata": {
        "colab": {
          "base_uri": "https://localhost:8080/"
        },
        "id": "O5WIcWC-DAio",
        "outputId": "95a7bbc8-7193-40e1-b514-25cf698f8a56"
      },
      "source": [
        "print(df_results['goal'].value_counts())#Hence this is an unbalanced dataset\n",
        "print(\"Initially there is a class imbalance with goal- 11.1% and no goal- 88.9%\")\n",
        "df_results['goal'] = df_results['goal'].astype(int)\n",
        "y=df_results['goal']"
      ],
      "execution_count": null,
      "outputs": [
        {
          "output_type": "stream",
          "text": [
            "False    38250\n",
            "True      4790\n",
            "Name: goal, dtype: int64\n",
            "Initially there is a class imbalance with goal- 11.1% and no goal- 88.9%\n"
          ],
          "name": "stdout"
        }
      ]
    },
    {
      "cell_type": "markdown",
      "metadata": {
        "id": "TozihLjcQ4Ar"
      },
      "source": [
        "***One Hot Encoding / Making dummies for categorical variables***"
      ]
    },
    {
      "cell_type": "code",
      "metadata": {
        "id": "Wi85BgOQJel_"
      },
      "source": [
        "df_events1s = df_events[['type_id_a0','bodypart_id_a0','start_x_a0', 'start_y_a0',\\\n",
        "                         'start_dist_to_goal_a0', 'start_angle_to_goal_a0',\\\n",
        "                         'shot_angle_a0','caley_zone_a0','angle_zone_a0']].copy()\n",
        "df_events2s = df_events[['type_id_a0', 'type_id_a1','bodypart_id_a0','bodypart_id_a1','result_id_a1',\\\n",
        "                         'start_x_a0', 'start_y_a0', 'start_x_a1', 'start_y_a1','end_x_a1', 'end_y_a1',\\\n",
        "                         'dx_a1','dy_a1', 'movement_a1', 'dx_a01','dy_a01', 'mov_a01',\\\n",
        "                         'start_dist_to_goal_a0', 'start_angle_to_goal_a0',\\\n",
        "                         'start_dist_to_goal_a1', 'start_angle_to_goal_a1',\\\n",
        "                         'end_dist_to_goal_a1', 'end_angle_to_goal_a1',\\\n",
        "                         'team_1',  'time_delta_1',\\\n",
        "                         'speedx_a01', 'speedy_a01', 'speed_a01',  'shot_angle_a0', 'shot_angle_a1',\\\n",
        "                         'caley_zone_a0', 'caley_zone_a1','angle_zone_a0', 'angle_zone_a1']].copy()\n",
        "df_events3s = df_events.copy()\n",
        "df_basic = df_events1s[['type_id_a0','bodypart_id_a0','start_x_a0', 'start_y_a0',\\\n",
        "                         'start_dist_to_goal_a0','shot_angle_a0']].copy()"
      ],
      "execution_count": null,
      "outputs": []
    },
    {
      "cell_type": "code",
      "metadata": {
        "id": "sGC8E4R7oIW3"
      },
      "source": [
        "def create_dummies(data,nshots=0):\n",
        "    if (nshots>=0):\n",
        "        data_dummies = pd.get_dummies(data.type_id_a0,prefix=\"type_id_a0\")\n",
        "        data = data.join(data_dummies)\n",
        "        data=data.drop(columns=[\"type_id_a0\"])\n",
        "        data_dummies = pd.get_dummies(data.bodypart_id_a0,prefix=\"bodypart_id_a0\")  \n",
        "        data = data.join(data_dummies)\n",
        "        data=data.drop(columns=[\"bodypart_id_a0\"]) \n",
        "    if (nshots>=1):\n",
        "        data_dummies = pd.get_dummies(data.caley_zone_a0,prefix=\"caley_zone_a0\") \n",
        "        data = data.join(data_dummies)\n",
        "        data=data.drop(columns=[\"caley_zone_a0\"]) \n",
        "        data_dummies = pd.get_dummies(data.angle_zone_a0,prefix=\"angle_zone_a0\") \n",
        "        data = data.join(data_dummies)\n",
        "        data=data.drop(columns=[\"angle_zone_a0\"]) \n",
        "    if (nshots>=2):\n",
        "        data_dummies = pd.get_dummies(data.type_id_a1,prefix=\"type_id_a1\")\n",
        "        data = data.join(data_dummies)\n",
        "        data=data.drop(columns=[\"type_id_a1\"]) \n",
        "        data_dummies = pd.get_dummies(data.bodypart_id_a1,prefix=\"bodypart_id_a1\") \n",
        "        data = data.join(data_dummies)\n",
        "        data=data.drop(columns=[\"bodypart_id_a1\"]) \n",
        "        data_dummies = pd.get_dummies(data.caley_zone_a1,prefix=\"caley_zone_a1\") \n",
        "        data = data.join(data_dummies)\n",
        "        data=data.drop(columns=[\"caley_zone_a1\"]) \n",
        "        data_dummies = pd.get_dummies(data.angle_zone_a1,prefix=\"angle_zone_a1\") \n",
        "        data = data.join(data_dummies)\n",
        "        data=data.drop(columns=[\"angle_zone_a1\"]) \n",
        "        data_dummies = pd.get_dummies(data.result_id_a1,prefix=\"result_id_a1\") # 1- open play, 2- set piece, 3- corner, 4- free kick\n",
        "        data = data.join(data_dummies)\n",
        "        data=data.drop(columns=[\"result_id_a1\"]) \n",
        "        data=data.drop(columns=[\"result_id_a1_fail\"])\n",
        "        data_dummies = pd.get_dummies(data.team_1,prefix=\"team_1\") # 1- open play, 2- set piece, 3- corner, 4- free kick\n",
        "        data = data.join(data_dummies)\n",
        "        data=data.drop(columns=[\"team_1\"])\n",
        "        data_dummies = pd.get_dummies(data.team_2,prefix=\"team_2\") # 1- open play, 2- set piece, 3- corner, 4- free kick\n",
        "        data = data.join(data_dummies)\n",
        "        data=data.drop(columns=[\"team_2\"])\n",
        "        data=data.drop(columns=[\"team_1_False\"])\n",
        "        data=data.drop(columns=[\"team_2_False\"])\n",
        "\n",
        "    if (nshots==3):\n",
        "        data_dummies = pd.get_dummies(data.type_id_a2,prefix=\"type_id_a2\")\n",
        "        data = data.join(data_dummies)\n",
        "        data=data.drop(columns=[\"type_id_a2\"])\n",
        "        data_dummies = pd.get_dummies(data.bodypart_id_a2,prefix=\"bodypart_id_a2\") \n",
        "        data = data.join(data_dummies)\n",
        "        data=data.drop(columns=[\"bodypart_id_a2\"]) \n",
        "        data_dummies = pd.get_dummies(data.caley_zone_a2,prefix=\"caley_zone_a2\") \n",
        "        data = data.join(data_dummies)\n",
        "        data=data.drop(columns=[\"caley_zone_a2\"]) \n",
        "        data_dummies = pd.get_dummies(data.angle_zone_a2,prefix=\"angle_zone_a2\") \n",
        "        data = data.join(data_dummies)\n",
        "        data=data.drop(columns=[\"angle_zone_a2\"]) \n",
        "        data_dummies = pd.get_dummies(data.result_id_a2,prefix=\"result_id_a2\") # 1- open play, 2- set piece, 3- corner, 4- free kick\n",
        "        data = data.join(data_dummies)\n",
        "        data=data.drop(columns=[\"result_id_a2\"])     \n",
        "    return data"
      ],
      "execution_count": null,
      "outputs": []
    },
    {
      "cell_type": "code",
      "metadata": {
        "id": "hA0zIf3yoVPc"
      },
      "source": [
        "df_events_2=df_events\n",
        "df_events_2=create_dummies(df_events_2,nshots=3)\n",
        "# df_events_2"
      ],
      "execution_count": null,
      "outputs": []
    },
    {
      "cell_type": "markdown",
      "metadata": {
        "id": "fbPMmfR3gY5R"
      },
      "source": [
        "***Random under-sampling with imblearn***"
      ]
    },
    {
      "cell_type": "code",
      "metadata": {
        "colab": {
          "base_uri": "https://localhost:8080/"
        },
        "id": "CKykOEOpgX_3",
        "outputId": "750d419b-147f-48f7-c9fe-8eb27494dc0d"
      },
      "source": [
        "from imblearn.under_sampling import RandomUnderSampler\n",
        "rus = RandomUnderSampler(random_state=42, replacement=True, sampling_strategy=0.2395)# fit predictor and target variable\n",
        "x_rus, y_rus = rus.fit_resample(df_events_2, y)\n",
        "print('original dataset shape:', y.shape)\n",
        "print('Resample dataset shape', y_rus.shape)\n",
        "print(pd.Series(y_rus).value_counts())"
      ],
      "execution_count": null,
      "outputs": [
        {
          "output_type": "stream",
          "text": [
            "original dataset shape: (43040,)\n",
            "Resample dataset shape (24790,)\n",
            "0    20000\n",
            "1     4790\n",
            "dtype: int64\n"
          ],
          "name": "stdout"
        }
      ]
    },
    {
      "cell_type": "markdown",
      "metadata": {
        "id": "IHAEyQ5_fDWr"
      },
      "source": [
        "***Synthetic Minority Oversampling Technique (SMOTE)***\n",
        "\n",
        "SMOTE (Synthetic Minority Oversampling Technique) works by randomly picking a point from the minority class and computing the k-nearest neighbors for this point. The synthetic points are added between the chosen point and its neighbors.![Screenshot 2021-04-17 at 11.50.45 AM.jpg](data:image/jpeg;base64,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)"
      ]
    },
    {
      "cell_type": "code",
      "metadata": {
        "id": "jZst0HINfC4n",
        "colab": {
          "base_uri": "https://localhost:8080/"
        },
        "outputId": "05cb6cb3-94cc-4b68-cfc5-0aa172d62a25"
      },
      "source": [
        "from imblearn.over_sampling import SMOTE\n",
        "smote = SMOTE(sampling_strategy=0.5)\n",
        "# fit predictor and target variable\n",
        "x_smote, y_smote = smote.fit_resample(x_rus, y_rus)\n",
        "print('Original dataset shape', y_rus.shape)\n",
        "print('Resample dataset shape', y_smote.shape)\n",
        "print(pd.Series(y_smote).value_counts())\n",
        "df_shots=x_smote\n",
        "y=y_smote"
      ],
      "execution_count": null,
      "outputs": [
        {
          "output_type": "stream",
          "text": [
            "Original dataset shape (24790,)\n",
            "Resample dataset shape (30000,)\n",
            "0    20000\n",
            "1    10000\n",
            "dtype: int64\n"
          ],
          "name": "stdout"
        }
      ]
    },
    {
      "cell_type": "markdown",
      "metadata": {
        "id": "vw_K5-ZNRMoW"
      },
      "source": [
        "***Normalizing the dataset.***"
      ]
    },
    {
      "cell_type": "code",
      "metadata": {
        "id": "XN-axpOCJiGn"
      },
      "source": [
        "# df_shots=df_events_2.to_numpy()\n",
        "from sklearn import preprocessing\n",
        "scaler = preprocessing.StandardScaler().fit(df_shots)\n",
        "df_shots = scaler.transform(df_shots)"
      ],
      "execution_count": null,
      "outputs": []
    },
    {
      "cell_type": "markdown",
      "metadata": {
        "id": "j4ilAkklLsYL"
      },
      "source": [
        "# Splitting the data into train-test sets (70/30)\n",
        "We will be using k-fold cross validation on the train set for hyperparameter tuning of the ML algorithms."
      ]
    },
    {
      "cell_type": "code",
      "metadata": {
        "id": "7E9dPbPMJ5pl"
      },
      "source": [
        "from sklearn.model_selection import train_test_split\n",
        "X_train, X_test, y_train, y_test = train_test_split(df_shots, y, test_size=0.2, random_state=1) # Splitting data into train and test\n",
        "X_train, X_val, y_train, y_val = train_test_split(X_train, y_train, test_size=0.25, random_state=1)  # Splitting train into train and val. 0.25x0.8=0.2"
      ],
      "execution_count": null,
      "outputs": []
    },
    {
      "cell_type": "markdown",
      "metadata": {
        "id": "w8Gf1uqQIEg2"
      },
      "source": [
        "## Visualising the data with a 3-d plot after appying PCA to reduce dimensions to 3"
      ]
    },
    {
      "cell_type": "code",
      "metadata": {
        "id": "YLjTpCYn7P1Q",
        "colab": {
          "base_uri": "https://localhost:8080/"
        },
        "outputId": "e2fa226e-3331-4314-bc4c-4ed0a07ad02a"
      },
      "source": [
        "from sklearn.decomposition import PCA\n",
        "pca = PCA(n_components=3) # We want to lose maximum of 10% information by PCA, will reduce dimensions accordingly.\n",
        "X_pca = pca.fit_transform(X_train)\n",
        "print(pca.explained_variance_ratio_)\n",
        "result=pd.DataFrame(X_pca, columns=['PCA%i' % i for i in range(3)])"
      ],
      "execution_count": null,
      "outputs": [
        {
          "output_type": "stream",
          "text": [
            "[0.0800736  0.05439866 0.04445383]\n"
          ],
          "name": "stdout"
        }
      ]
    },
    {
      "cell_type": "code",
      "metadata": {
        "id": "DzK8Trjm8cwR",
        "colab": {
          "base_uri": "https://localhost:8080/",
          "height": 575
        },
        "outputId": "75682cd1-6663-4fa4-f12f-e92b57a031f7"
      },
      "source": [
        "fig = plt.figure(figsize=(10, 10))\n",
        "ax = fig.add_subplot(111, projection='3d')\n",
        "ax.scatter(result['PCA0'], result['PCA1'], result['PCA2'], c=y_train, cmap=\"Set2_r\", s=30)\n",
        "xAxisLine = ((min(result['PCA0']), max(result['PCA0'])), (0, 0), (0,0))\n",
        "ax.plot(xAxisLine[0], xAxisLine[1], xAxisLine[2], 'r')\n",
        "yAxisLine = ((0, 0), (min(result['PCA1']), max(result['PCA1'])), (0,0))\n",
        "ax.plot(yAxisLine[0], yAxisLine[1], yAxisLine[2], 'r')\n",
        "zAxisLine = ((0, 0), (0,0), (min(result['PCA2']), max(result['PCA2'])))\n",
        "ax.plot(zAxisLine[0], zAxisLine[1], zAxisLine[2], 'r')\n",
        "ax.set_xlabel(\"PC1\")\n",
        "ax.set_ylabel(\"PC2\")\n",
        "ax.set_zlabel(\"PC3\")\n",
        "ax.set_title(\"PCA on the train data set\")\n",
        "plt.show()"
      ],
      "execution_count": null,
      "outputs": [
        {
          "output_type": "display_data",
          "data": {
            "image/png": "[encoded data removed]",
            "text/plain": [
              "<Figure size 720x720 with 1 Axes>"
            ]
          },
          "metadata": {
            "tags": [],
            "needs_background": "light"
          }
        }
      ]
    },
    {
      "cell_type": "markdown",
      "metadata": {
        "id": "0gFWg4C6Ia9y"
      },
      "source": [
        "## Using PCA to reduce dimesionality "
      ]
    },
    {
      "cell_type": "code",
      "metadata": {
        "id": "LlkatjUT5k7G",
        "colab": {
          "base_uri": "https://localhost:8080/"
        },
        "outputId": "c7ffae7d-dfd8-4116-860e-ed9fb4d3442e"
      },
      "source": [
        "from sklearn.decomposition import PCA\n",
        "pca = PCA(0.9) # We want to lose maximum of 10% information by PCA, will reduce dimensions accordingly.\n",
        "X_train = pca.fit_transform(X_train)\n",
        "explained_variance = pca.explained_variance_ratio_\n",
        "print(len(explained_variance))\n",
        "print(\"By reducing dimensionality from PCA, \",round((1-sum(explained_variance))*100,2),\"% information was lost.\")\n",
        "X_val = pca.transform(X_val)\n",
        "X_test = pca.transform(X_test)\n",
        "# print(explained_variance)"
      ],
      "execution_count": null,
      "outputs": [
        {
          "output_type": "stream",
          "text": [
            "65\n",
            "By reducing dimensionality from PCA,  9.89 % information was lost.\n"
          ],
          "name": "stdout"
        }
      ]
    },
    {
      "cell_type": "markdown",
      "metadata": {
        "id": "HfnLflaTi9K6"
      },
      "source": [
        "# Applying Logistic Regression"
      ]
    },
    {
      "cell_type": "code",
      "metadata": {
        "id": "_K8Kh5PBkYd1"
      },
      "source": [
        "from sklearn.linear_model import LogisticRegression\n",
        "clf_lr = LogisticRegression(class_weight='balanced')\n",
        "clf_lr.fit(X_train,y_train)\n",
        "y_pred_lr = clf_lr.predict(X_test)"
      ],
      "execution_count": null,
      "outputs": []
    },
    {
      "cell_type": "code",
      "metadata": {
        "id": "D1LrRQq_kr-4",
        "colab": {
          "base_uri": "https://localhost:8080/"
        },
        "outputId": "3f24ea24-56fb-40c3-8e64-66d452383726"
      },
      "source": [
        "print(confusion_matrix(y_test, y_pred_lr))\n",
        "print(accuracy_score(y_test, y_pred_lr))"
      ],
      "execution_count": null,
      "outputs": [
        {
          "output_type": "stream",
          "text": [
            "[[2982 1041]\n",
            " [ 546 1431]]\n",
            "0.7355\n"
          ],
          "name": "stdout"
        }
      ]
    },
    {
      "cell_type": "markdown",
      "metadata": {
        "id": "15yyaJO8b2mu"
      },
      "source": [
        "# NeuralNet"
      ]
    },
    {
      "cell_type": "code",
      "metadata": {
        "id": "EpMN0Dpfb2Ao"
      },
      "source": [
        "from copy import deepcopy\n",
        "class MyNeuralNetwork():\n",
        "    \"\"\"\n",
        "    My implementation of a Neural Network Classifier.\n",
        "    \"\"\"\n",
        "\n",
        "    acti_fns = ['relu', 'sigmoid', 'linear', 'tanh', 'softmax']\n",
        "    weight_inits = ['zero', 'random', 'normal']\n",
        "\n",
        "    def __init__(self, n_layers, layer_sizes, activation, learning_rate, weight_init, batch_size, num_epochs):\n",
        "        \"\"\"\n",
        "        Initializing a new MyNeuralNetwork object\n",
        "\n",
        "        Parameters\n",
        "        ----------\n",
        "        n_layers : int value specifying the number of layers\n",
        "\n",
        "        layer_sizes : integer array of size n_layers specifying the number of nodes in each layer\n",
        "\n",
        "        activation : string specifying the activation function to be used\n",
        "                     possible inputs: relu, sigmoid, linear, tanh\n",
        "\n",
        "        learning_rate : float value specifying the learning rate to be used\n",
        "\n",
        "        weight_init : string specifying the weight initialization function to be used\n",
        "                      possible inputs: zero, random, normal\n",
        "\n",
        "        batch_size : int value specifying the batch size to be used\n",
        "\n",
        "        num_epochs : int value specifying the number of epochs to be used\n",
        "        \"\"\"\n",
        "        self.n_layers = n_layers\n",
        "        self.layer_sizes = layer_sizes\n",
        "        self.activation = activation\n",
        "        self.learning_rate = learning_rate\n",
        "        self.weight_init = weight_init\n",
        "        self.batch_size = batch_size\n",
        "        self.num_epochs = num_epochs \n",
        "        self.activation_initialization()\n",
        "        if activation not in self.acti_fns:\n",
        "            raise Exception('Incorrect Activation Function')\n",
        "\n",
        "        if weight_init not in self.weight_inits:\n",
        "            raise Exception('Incorrect Weight Initialization Function')\n",
        "        pass\n",
        "    \n",
        "    def relu(self, X):    # Done\n",
        "        \"\"\"\n",
        "        Parameters\n",
        "        X : 1-dimentional numpy array \n",
        "        Returns\n",
        "        x_calc : 1-dimensional numpy array after calculating the necessary function over X\n",
        "        \"\"\"\n",
        "        x_calc = np.maximum(0,X)\n",
        "        return x_calc\n",
        "\n",
        "    def relu_grad(self, X):    # Done\n",
        "        \"\"\"\n",
        "        Parameters\n",
        "        X : 1-dimentional numpy array \n",
        "        Returns\n",
        "        x_calc : 1-dimensional numpy array after calculating the necessary function over X\n",
        "        \"\"\"\n",
        "        X[X<=0] = 0\n",
        "        X[X>0] = 1\n",
        "        x_calc = X\n",
        "        return x_calc\n",
        "\n",
        "    def sigmoid(self, X):    # Done\n",
        "        \"\"\"\n",
        "        Parameters\n",
        "        X : 1-dimentional numpy array \n",
        "        Returns        \n",
        "        x_calc : 1-dimensional numpy array after calculating the necessary function over X\n",
        "        \"\"\"\n",
        "        x_calc = 1 / (1 + np.exp(-X))\n",
        "        return x_calc\n",
        "\n",
        "    def sigmoid_grad(self, X):    # Done\n",
        "        \"\"\"\n",
        "        Parameters\n",
        "        X : 1-dimentional numpy array \n",
        "        Returns        \n",
        "        x_calc : 1-dimensional numpy array after calculating the necessary function over X\n",
        "        \"\"\"\n",
        "        sigm = 1 / (1 + np.exp(-X))\n",
        "        x_calc = sigm * (1 - sigm)\n",
        "        return x_calc\n",
        "\n",
        "    def linear(self, X):    # Done\n",
        "        \"\"\"\n",
        "        Parameters        \n",
        "        X : 1-dimentional numpy array \n",
        "        Returns        \n",
        "        x_calc : 1-dimensional numpy array after calculating the necessary function over X\n",
        "        \"\"\"\n",
        "        x_calc = 0.1*X        \n",
        "        return x_calc\n",
        "\n",
        "    def linear_grad(self, X):    # Done\n",
        "        \"\"\"        \n",
        "        Parameters        \n",
        "        X : 1-dimentional numpy array \n",
        "        Returns        \n",
        "        x_calc : 1-dimensional numpy array after calculating the necessary function over X\n",
        "        \"\"\"\n",
        "        x_calc = np.ones(X.shape)        \n",
        "        return x_calc\n",
        "\n",
        "    def tanh(self, X):    # Done\n",
        "        \"\"\"        \n",
        "        X : 1-dimentional numpy array \n",
        "        Returns        \n",
        "        x_calc : 1-dimensional numpy array after calculating the necessary function over X\n",
        "        \"\"\"\n",
        "        x_calc = np.tanh(X)\n",
        "        return x_calc\n",
        "\n",
        "    def tanh_grad(self, X):    # Done\n",
        "        \"\"\"\n",
        "        Parameters        \n",
        "        X : 1-dimentional numpy array \n",
        "        Returns        \n",
        "        x_calc : 1-dimensional numpy array after calculating the necessary function over X\n",
        "        \"\"\"\n",
        "        x_calc = 1 - (np.tanh(X)**2)\n",
        "        return x_calc\n",
        "\n",
        "    def softmax(self, X):    # Done\n",
        "        \"\"\"\n",
        "        Parameters\n",
        "        X : 1-dimentional numpy array \n",
        "        Returns\n",
        "        x_calc : 1-dimensional numpy array after calculating the necessary function over X\n",
        "        \"\"\"\n",
        "        exps = np.exp(X - np.amax(X,axis=0))\n",
        "        x_calc = exps / np.sum(exps, axis=0)        \n",
        "        return x_calc\n",
        "\n",
        "    def softmax_grad(self, X):\n",
        "        \"\"\"      \n",
        "        Parameters\n",
        "        X : 1-dimentional numpy array \n",
        "        Returns\n",
        "        x_calc : 1-dimensional numpy array after calculating the necessary function over X\n",
        "        \"\"\"\n",
        "        x_calc = self.softmax(X) * (1 - self.softmax(X))\n",
        "        return x_calc\n",
        "\n",
        "    def activation_initialization(self):\n",
        "        if self.activation == \"relu\":\n",
        "          self.activation_func = self.relu\n",
        "          self.activation_func_grad = self.relu_grad\n",
        "        elif self.activation == \"sigmoid\":\n",
        "          self.activation_func = self.sigmoid\n",
        "          self.activation_func_grad = self.sigmoid_grad\n",
        "        elif self.activation == \"tanh\":\n",
        "          self.activation_func = self.tanh\n",
        "          self.activation_func_grad = self.tanh_grad\n",
        "        elif self.activation == \"linear\":\n",
        "          self.activation_func = self.linear\n",
        "          self.activation_func_grad = self.linear_grad\n",
        "        \n",
        "    def zero_init(self, shape):    # Done\n",
        "        \"\"\"        \n",
        "        Parameters        \n",
        "        shape : tuple specifying the shape of the layer for which weights have to be generated \n",
        "        Returns       \n",
        "        weight : 2-dimensional numpy array which contains the initial weights for the requested layer\n",
        "        \"\"\"\n",
        "        weight = np.zeros(shape)\n",
        "        return weight\n",
        "\n",
        "    def random_init(self, shape):    # Done\n",
        "        \"\"\"\n",
        "        Parameters        \n",
        "        shape : tuple specifying the shape of the layer for which weights have to be generated \n",
        "        Returns        \n",
        "        weight : 2-dimensional numpy array which contains the initial weights for the requested layer\n",
        "        \"\"\"\n",
        "        weight = np.random.rand(*shape)*0.01\n",
        "        return weight\n",
        "\n",
        "    def normal_init(self, shape):    # Done\n",
        "        \"\"\"        \n",
        "        Parameters       \n",
        "        shape : tuple specifying the shape of the layer for which weights have to be generated \n",
        "        Returns       \n",
        "        weight : 2-dimensional numpy array which contains the initial weights for the requested layer\n",
        "        \"\"\"\n",
        "        weight = np.random.randn(*shape)*0.01\n",
        "        return weight\n",
        "\n",
        "    def weight_initialization(self):\n",
        "        self.weights=[]\n",
        "        self.biases=[]\n",
        "        if self.weight_init=='zero':\n",
        "          for i in range(self.n_layers-1):\n",
        "            self.weights.append(self.zero_init((self.layer_sizes[i],self.layer_sizes[i+1])))     # 784 x 256, 256 x 128, 128 x 64, 64 x10\n",
        "            self.biases.append(np.zeros((self.layer_sizes[i+1],1)))      # 256 x 1 ....\n",
        "        if self.weight_init=='random':\n",
        "          for i in range(self.n_layers-1):\n",
        "            self.weights.append(self.random_init((self.layer_sizes[i],self.layer_sizes[i+1])))     # 784 x 256, 256 x 128, 128 x 64, 64 x10\n",
        "            self.biases.append(np.zeros((self.layer_sizes[i+1],1)))      # 256 x 1 ....\n",
        "        if self.weight_init=='normal':\n",
        "          for i in range(self.n_layers-1):\n",
        "            self.weights.append(self.normal_init((self.layer_sizes[i],self.layer_sizes[i+1])))     # 784 x 256, 256 x 128, 128 x 64, 64 x10\n",
        "            self.biases.append(np.zeros((self.layer_sizes[i+1],1)))      # 256 x 1 ....\n",
        "\n",
        "    def load_weights_biases(self,weights,biases):\n",
        "      self.weights = weights\n",
        "      self.biases = biases\n",
        "  \n",
        "    def forward_prop(self, X):\n",
        "        \"\"\"\n",
        "        Parameters      \n",
        "        X : 1-dimentional numpy array (784x1)\n",
        "        Returns        \n",
        "        z_list, a_list\n",
        "        \"\"\"\n",
        "        z_list=[]\n",
        "        a_list=[]\n",
        "        self.tsne_list=[]\n",
        "        a_list.append(X)                                       \n",
        "        for i in range(0, self.n_layers-1):   #0,1,2,3\n",
        "          # print(i, self.weights[i].shape, a_list[i].shape, self.biases[i].shape)\n",
        "          z = np.dot(self.weights[i].T,a_list[i]) + self.biases[i]    #256x784 X 784x100 = 256x100 , 128x256 X 256x100\n",
        "          z_list.append(z)\n",
        "          # print(i,z)          \n",
        "          if (i==self.n_layers-2):            \n",
        "            a_list.append(self.softmax(z))            \n",
        "          elif (i==self.n_layers-3):\n",
        "            a_list.append(self.activation_func(z))          \n",
        "            self.tsne_list.append(self.activation_func(z))\n",
        "          else:\n",
        "            a_list.append(self.activation_func(z))          \n",
        "        return z_list, a_list\n",
        "\n",
        "    def entropy_loss(self, y, y_prob):            \n",
        "      y_prob = y_prob.T\n",
        "      for i in range(len(self.classes)):\n",
        "        y[y == self.classes[i]] = i\n",
        "      loss = 0\n",
        "      for i in range(y_prob.shape[0]):\n",
        "        loss -= np.sum(np.log(y_prob[i, y == i]))\n",
        "      return loss/y_prob.shape[1]            \n",
        "\n",
        "    def backward_prop(self,z_list,a_list,y):   \n",
        "      # print(\"----------BACKPROP-----------\")   \n",
        "      # error = 2 * self.entropy_loss(y,a_list[-1])\n",
        "      error = a_list[-1]      \n",
        "      for i in range(error.shape[0]):\n",
        "        error[i,y==i] -= 1     \n",
        "      weight_changes= [0]*(self.n_layers-1)\n",
        "      bias_changes=[0]*(self.n_layers-1)\n",
        "      for i in range(self.n_layers-2, -1, -1):                   \n",
        "        weight_changes[i] = np.dot(error, a_list[i].T).T \n",
        "        bias_changes[i] = error.mean(axis=1).reshape((-1,1))       \n",
        "        if i!=0:                    \n",
        "          error = np.multiply(np.dot(self.weights[i], error), self.activation_func_grad(z_list[i-1]))              \n",
        "      for i in range(len(self.weights)):\n",
        "        self.weights[i] -= (self.learning_rate * weight_changes[i])\n",
        "        self.biases[i] -= (self.learning_rate * bias_changes[i])\n",
        "    \n",
        "    def one_hot(self, y):\n",
        "      onehot_y = np.zeros((y.size,y.max()+1))\n",
        "      onehot_y[np.arange(y.size),y] = 1      \n",
        "      return onehot_y\n",
        "  \n",
        "    def fit(self, X, y):\n",
        "        \"\"\"\n",
        "        Parameters        \n",
        "        X : 2-dimensional numpy array of shape (n_samples, n_features) which acts as training data.\n",
        "        y : 1-dimensional numpy array of shape (n_samples,) which acts as training labels.      \n",
        "        Returns        \n",
        "        self : an instance of self\n",
        "        \"\"\"                \n",
        "        self.classes, y = np.unique(y, return_inverse=True)                       \n",
        "        # self.activation_initialization()\n",
        "        self.weight_initialization()\n",
        "        self.save_weights_per_epoch=[]\n",
        "        self.save_biases_per_epoch=[]\n",
        "        self.training_loss_per_epoch=[]\n",
        "        for i in range(self.num_epochs):\n",
        "          for j in range(0,len(y),self.batch_size):          \n",
        "            X_batch = X[j:j+self.batch_size,:].T            \n",
        "            z_list, a_list = self.forward_prop(X_batch)\n",
        "            self.backward_prop(z_list, a_list, y[j:j+self.batch_size])\n",
        "          loss = self.entropy_loss(y,self.predict_proba(X))\n",
        "          print(\"Epoch:\",i+1,\"| Loss:\",loss)          \n",
        "          self.training_loss_per_epoch.append(loss)\n",
        "          self.save_weights_per_epoch.append(deepcopy(self.weights))\n",
        "          self.save_biases_per_epoch.append(deepcopy(self.biases))\n",
        "        # fit function has to return an instance of itself or else it won't work with test.py\n",
        "        return self\n",
        "\n",
        "    def predict_proba(self, X):\n",
        "        \"\"\"\n",
        "        Parameters        \n",
        "        X : 2-dimensional numpy array of shape (n_samples, n_features) which acts as testing data.\n",
        "        Returns      \n",
        "        y : 2-dimensional numpy array of shape (n_samples, n_classes) which contains the \n",
        "            class wise prediction probabilities.\n",
        "        \"\"\"      \n",
        "        z_list,a_list = self.forward_prop(X.T)\n",
        "        y = a_list[-1].T\n",
        "        # return the numpy array y which contains the predicted values\n",
        "        return y\n",
        "\n",
        "    def predict(self, X):\n",
        "        \"\"\"      \n",
        "        Parameters        \n",
        "        X : 2-dimensional numpy array of shape (n_samples, n_features) which acts as testing data.\n",
        "        Returns        \n",
        "        y : 1-dimensional numpy array of shape (n_samples,) which contains the predicted values.\n",
        "        \"\"\"\n",
        "        y_prob = self.predict_proba(X)\n",
        "        y_ind = y_prob.argmax(axis=1)\n",
        "        y = self.classes[y_ind]\n",
        "        # return the numpy array y which contains the predicted values\n",
        "        return y\n",
        "    \n",
        "    def score(self, X, y):\n",
        "        \"\"\"\n",
        "        Predicting values using the trained linear model.\n",
        "        Parameters        \n",
        "        X : 2-dimensional numpy array of shape (n_samples, n_features) which acts as testing data.\n",
        "        y : 1-dimensional numpy array of shape (n_samples,) which acts as testing labels.\n",
        "        Returns        \n",
        "        acc : float value specifying the accuracy of the model on the provided testing set\n",
        "        \"\"\"  \n",
        "        self.classes, y = np.unique(y, return_inverse=True)\n",
        "        y_pred = self.predict(X)            \n",
        "        acc = np.mean(y==y_pred)  \n",
        "        return acc\n",
        "\n",
        "  "
      ],
      "execution_count": null,
      "outputs": []
    },
    {
      "cell_type": "code",
      "metadata": {
        "colab": {
          "base_uri": "https://localhost:8080/"
        },
        "id": "bSbpMIucca-8",
        "outputId": "db3bd819-9bf8-49f6-d668-248f8626b432"
      },
      "source": [
        "nn = MyNeuralNetwork(6,[65,256,128,64,32,2],'relu',0.01,'normal',64,70)\n",
        "nn.fit(X_train,y_train)"
      ],
      "execution_count": null,
      "outputs": [
        {
          "output_type": "stream",
          "text": [
            "Epoch: 1 | Loss: 0.6398527518252947\n",
            "Epoch: 2 | Loss: 0.6363413984321424\n",
            "Epoch: 3 | Loss: 0.4979405827846755\n",
            "Epoch: 4 | Loss: 0.4860273186223039\n",
            "Epoch: 5 | Loss: 0.48124525786545663\n",
            "Epoch: 6 | Loss: 0.47618538601997373\n",
            "Epoch: 7 | Loss: 0.4680988269807327\n",
            "Epoch: 8 | Loss: 0.46155375501880774\n",
            "Epoch: 9 | Loss: 0.4563968222358613\n",
            "Epoch: 10 | Loss: 0.448927248817572\n",
            "Epoch: 11 | Loss: 0.4416074881324657\n",
            "Epoch: 12 | Loss: 0.4354521142427697\n",
            "Epoch: 13 | Loss: 0.42880906927539514\n",
            "Epoch: 14 | Loss: 0.42166798015003465\n",
            "Epoch: 15 | Loss: 0.41529295359408996\n",
            "Epoch: 16 | Loss: 0.4184297127997269\n",
            "Epoch: 17 | Loss: 0.40616297013815517\n",
            "Epoch: 18 | Loss: 0.4017174691249165\n",
            "Epoch: 19 | Loss: 0.3919694901780105\n",
            "Epoch: 20 | Loss: 0.3920163911925589\n",
            "Epoch: 21 | Loss: 0.3885046733951831\n",
            "Epoch: 22 | Loss: 0.3894499830614741\n",
            "Epoch: 23 | Loss: 0.38275745255091975\n",
            "Epoch: 24 | Loss: 0.3693721020217643\n",
            "Epoch: 25 | Loss: 0.3639934792799446\n",
            "Epoch: 26 | Loss: 0.37265279978911253\n",
            "Epoch: 27 | Loss: 0.3657497275728415\n",
            "Epoch: 28 | Loss: 0.36029215240125845\n",
            "Epoch: 29 | Loss: 0.3533200609883879\n",
            "Epoch: 30 | Loss: 0.35619950865685446\n",
            "Epoch: 31 | Loss: 0.34983529485100373\n",
            "Epoch: 32 | Loss: 0.335392871452746\n",
            "Epoch: 33 | Loss: 0.31325017494729573\n",
            "Epoch: 34 | Loss: 0.32534943989898185\n",
            "Epoch: 35 | Loss: 0.33677856525203104\n",
            "Epoch: 36 | Loss: 0.3191146102752903\n",
            "Epoch: 37 | Loss: 0.32912626048439986\n",
            "Epoch: 38 | Loss: 0.3029954722881133\n",
            "Epoch: 39 | Loss: 0.2982092757251562\n",
            "Epoch: 40 | Loss: 0.30048188923963304\n",
            "Epoch: 41 | Loss: 0.29711673936039\n",
            "Epoch: 42 | Loss: 0.281759625528444\n",
            "Epoch: 43 | Loss: 0.29989918744514416\n",
            "Epoch: 44 | Loss: 0.28052505997189503\n",
            "Epoch: 45 | Loss: 0.2716755839941937\n",
            "Epoch: 46 | Loss: 0.27746584701832866\n",
            "Epoch: 47 | Loss: 0.2534365317751886\n",
            "Epoch: 48 | Loss: 0.2503992223309237\n",
            "Epoch: 49 | Loss: 0.2912483764308342\n",
            "Epoch: 50 | Loss: 0.25206545236698624\n",
            "Epoch: 51 | Loss: 0.24375562219518912\n",
            "Epoch: 52 | Loss: 0.23834886946363876\n",
            "Epoch: 53 | Loss: 0.2523462412888935\n",
            "Epoch: 54 | Loss: 0.241878545220561\n",
            "Epoch: 55 | Loss: 0.23701753696436426\n",
            "Epoch: 56 | Loss: 0.2514044883090865\n",
            "Epoch: 57 | Loss: 0.22819518831826635\n",
            "Epoch: 58 | Loss: 0.2571808349963046\n",
            "Epoch: 59 | Loss: 0.24835570271913734\n",
            "Epoch: 60 | Loss: 0.22449380330222782\n",
            "Epoch: 61 | Loss: 0.21343756007343107\n",
            "Epoch: 62 | Loss: 0.24136492367896709\n",
            "Epoch: 63 | Loss: 0.22897974001320248\n",
            "Epoch: 64 | Loss: 0.23648341137574103\n",
            "Epoch: 65 | Loss: 0.2168181052836085\n",
            "Epoch: 66 | Loss: 0.24825635381423383\n",
            "Epoch: 67 | Loss: 0.2134835028493565\n",
            "Epoch: 68 | Loss: 0.21510667040271325\n",
            "Epoch: 69 | Loss: 0.21038086664348496\n",
            "Epoch: 70 | Loss: 0.1953636860117073\n"
          ],
          "name": "stdout"
        },
        {
          "output_type": "execute_result",
          "data": {
            "text/plain": [
              "<__main__.MyNeuralNetwork at 0x7f4d9f0a79d0>"
            ]
          },
          "metadata": {
            "tags": []
          },
          "execution_count": 19
        }
      ]
    },
    {
      "cell_type": "code",
      "metadata": {
        "id": "p3JC9bMje3mF"
      },
      "source": [
        "y_pred_nn = nn.predict(X_test)"
      ],
      "execution_count": null,
      "outputs": []
    },
    {
      "cell_type": "code",
      "metadata": {
        "id": "4WSVzIonfI2n",
        "colab": {
          "base_uri": "https://localhost:8080/"
        },
        "outputId": "59ef90dc-fc88-485a-b64d-34f4df0e99d3"
      },
      "source": [
        "print(accuracy_score(y_test, y_pred_nn))\n",
        "print(confusion_matrix(y_test,y_pred_nn))"
      ],
      "execution_count": null,
      "outputs": [
        {
          "output_type": "stream",
          "text": [
            "0.799\n",
            "[[3464  559]\n",
            " [ 647 1330]]\n"
          ],
          "name": "stdout"
        }
      ]
    },
    {
      "cell_type": "code",
      "metadata": {
        "id": "lcpmJspUFdWF"
      },
      "source": [
        "model_weights_per_epoch = nn.save_weights_per_epoch\n",
        "model_biases_per_epoch = nn.save_biases_per_epoch\n",
        "model_traning_loss_per_epoch = nn.training_loss_per_epoch"
      ],
      "execution_count": null,
      "outputs": []
    },
    {
      "cell_type": "code",
      "metadata": {
        "id": "lpbLfpYcFf_V"
      },
      "source": [
        "model_validation_loss_per_epoch = []\n",
        "temp1=[]\n",
        "temp2=[]\n",
        "for i in range(len(model_weights_per_epoch)):  \n",
        "  nn.load_weights_biases(model_weights_per_epoch[i],model_biases_per_epoch[i])\n",
        "  loss = nn.entropy_loss(y_test, nn.predict_proba(X_test))\n",
        "  temp1.append(nn.score(X_train,y_train))\n",
        "  temp2.append(nn.score(X_test,y_test))\n",
        "  # score = nn.score(X_test,y_test)  \n",
        "  model_validation_loss_per_epoch.append(loss)"
      ],
      "execution_count": null,
      "outputs": []
    },
    {
      "cell_type": "code",
      "metadata": {
        "colab": {
          "base_uri": "https://localhost:8080/",
          "height": 295
        },
        "id": "cNQAXnu0K0Vi",
        "outputId": "325364af-1986-4d00-caef-21bc39c32b89"
      },
      "source": [
        "import matplotlib.pyplot as plt\n",
        "plt.plot(temp1,label=\"Training Acc\")\n",
        "plt.plot(temp2,label=\"Validation Acc\")\n",
        "plt.xlabel(\"Number of Epochs\")\n",
        "plt.ylabel(\"Accuracy score\")\n",
        "plt.title(\"NeuralNet\")\n",
        "plt.legend()\n",
        "plt.show()"
      ],
      "execution_count": null,
      "outputs": [
        {
          "output_type": "display_data",
          "data": {
            "image/png": "[encoded data removed]",
            "text/plain": [
              "<Figure size 432x288 with 1 Axes>"
            ]
          },
          "metadata": {
            "tags": [],
            "needs_background": "light"
          }
        }
      ]
    },
    {
      "cell_type": "code",
      "metadata": {
        "colab": {
          "base_uri": "https://localhost:8080/",
          "height": 295
        },
        "id": "Ry_xL0mZFjGA",
        "outputId": "1c19a1fa-5179-4ab1-9148-6af0471e889b"
      },
      "source": [
        "import matplotlib.pyplot as plt\n",
        "plt.plot(model_traning_loss_per_epoch,label=\"Training Loss\")\n",
        "plt.plot(model_validation_loss_per_epoch,label=\"Validation Loss\")\n",
        "plt.xlabel(\"Number of Epochs\")\n",
        "plt.ylabel(\"Loss\")\n",
        "plt.title(\"NeuralNet\")\n",
        "plt.legend()\n",
        "plt.show()"
      ],
      "execution_count": null,
      "outputs": [
        {
          "output_type": "display_data",
          "data": {
            "image/png": "[encoded data removed]",
            "text/plain": [
              "<Figure size 432x288 with 1 Axes>"
            ]
          },
          "metadata": {
            "tags": [],
            "needs_background": "light"
          }
        }
      ]
    },
    {
      "cell_type": "markdown",
      "metadata": {
        "id": "lELsNtjMjCzT"
      },
      "source": [
        "# Applying Support Vector Classifier (SVC)"
      ]
    },
    {
      "cell_type": "code",
      "metadata": {
        "id": "euP10uxTh8YP"
      },
      "source": [
        "# from sklearn.svm import SVC\n",
        "# clf_svc = SVC(probability=True)\n",
        "# clf_svc.fit(X_train,y_train)  # This will take 10-20 seconds\n",
        "# y_pred_svc=clf_svc.predict(X_test)"
      ],
      "execution_count": null,
      "outputs": []
    },
    {
      "cell_type": "code",
      "metadata": {
        "id": "IhtY-tftilT0"
      },
      "source": [
        "# print(confusion_matrix(y_test, y_pred_svc))\n",
        "# print(accuracy_score(y_test, y_pred_svc))"
      ],
      "execution_count": null,
      "outputs": []
    },
    {
      "cell_type": "markdown",
      "metadata": {
        "id": "ULkDnVYbx0Rr"
      },
      "source": [
        "# USING ADABOOST Classifier"
      ]
    },
    {
      "cell_type": "code",
      "metadata": {
        "id": "E10lXyaEx4v1"
      },
      "source": [
        "from sklearn.ensemble import AdaBoostClassifier\n",
        "clf_abc = AdaBoostClassifier(n_estimators=50, learning_rate=1)\n",
        "clf_abc.fit(X_train, y_train)\n",
        "y_pred_abc = clf_abc.predict(X_test)"
      ],
      "execution_count": null,
      "outputs": []
    },
    {
      "cell_type": "code",
      "metadata": {
        "id": "xWQvRTpA50Sj"
      },
      "source": [
        "print(accuracy_score(y_test, y_pred_abc))\n",
        "print(confusion_matrix(y_test,y_pred_abc))"
      ],
      "execution_count": null,
      "outputs": []
    },
    {
      "cell_type": "markdown",
      "metadata": {
        "id": "cTkjVRTep3K_"
      },
      "source": [
        "# Applying XGBoost Classifier with Hyperparameter optimization using Hyperopt\n",
        "XGBoost is an implementation of gradient boosted decision trees designed for speed and performance.\n",
        "Hyperopt uses a form of Bayesian optimization for parameter tuning that allows you to get the best parameters for a given model. We have taken the loss as brier score"
      ]
    },
    {
      "cell_type": "code",
      "metadata": {
        "id": "8MmyY_fGncQq"
      },
      "source": [
        "# !nvidia-smi"
      ],
      "execution_count": null,
      "outputs": []
    },
    {
      "cell_type": "code",
      "metadata": {
        "id": "iMZ_oXJ5pu5F"
      },
      "source": [
        "from hyperopt import STATUS_OK, Trials, fmin, hp, tpe\n",
        "import xgboost as xgb"
      ],
      "execution_count": null,
      "outputs": []
    },
    {
      "cell_type": "code",
      "metadata": {
        "id": "YH2yX8fppup3"
      },
      "source": [
        "space={'max_depth': hp.quniform(\"max_depth\", 3, 18, 1),   #hp.quniform(label, low, high, q) — Returns a value round(uniform(low, high) / q) * q, i.e it rounds the decimal values and returns an integer.\n",
        "        'gamma': hp.uniform ('gamma', 1,9),               #hp.uniform(label, low, high) — Returns a value uniformly between low and high.\n",
        "        'reg_alpha' : hp.quniform('reg_alpha', 40,180,1),\n",
        "        'reg_lambda' : hp.uniform('reg_lambda', 0,1),\n",
        "        'colsample_bytree' : hp.uniform('colsample_bytree', 0.5,1),\n",
        "        'min_child_weight' : hp.quniform('min_child_weight', 0, 10, 1),\n",
        "        'n_estimators': 180,\n",
        "        'seed': 0\n",
        "    }"
      ],
      "execution_count": null,
      "outputs": []
    },
    {
      "cell_type": "code",
      "metadata": {
        "id": "vAl0YDzhqSS-"
      },
      "source": [
        "def objective(space):\n",
        "    clff=xgb.XGBClassifier(\n",
        "                    n_estimators =space['n_estimators'], max_depth = int(space['max_depth']), gamma = space['gamma'],\n",
        "                    reg_alpha = int(space['reg_alpha']),min_child_weight=int(space['min_child_weight']),\n",
        "                    colsample_bytree=int(space['colsample_bytree']))\n",
        "    \n",
        "    evaluation = [( X_train, y_train), ( X_val, y_val)]\n",
        "    \n",
        "    clff.fit(X_train, y_train,\n",
        "            eval_set=evaluation, eval_metric=\"auc\",\n",
        "            early_stopping_rounds=10,verbose=False)\n",
        "    \n",
        "\n",
        "    probs = clff.predict_proba(X_test)\n",
        "    probs = probs[:, 1]\n",
        "    loss = brier_score_loss(y_test, probs)\n",
        "    # accuracy = accuracy_score(y_test, pred>0.5)\n",
        "    print (\"SCORE:\", loss)\n",
        "    return {'loss': loss, 'status': STATUS_OK }"
      ],
      "execution_count": null,
      "outputs": []
    },
    {
      "cell_type": "code",
      "metadata": {
        "id": "SgoRgrPdqYEQ"
      },
      "source": [
        "trials = Trials()\n",
        "best_hyperparams = fmin(fn = objective,\n",
        "                        space = space,\n",
        "                        algo = tpe.suggest,\n",
        "                        max_evals = 10,\n",
        "                        trials = trials)"
      ],
      "execution_count": null,
      "outputs": []
    },
    {
      "cell_type": "code",
      "metadata": {
        "id": "NWiBTGIMqilK"
      },
      "source": [
        "print(\"The best hyperparameters are : \",\"\\n\")\n",
        "print(best_hyperparams)"
      ],
      "execution_count": null,
      "outputs": []
    },
    {
      "cell_type": "code",
      "metadata": {
        "id": "FEHGJ_ePGwz7"
      },
      "source": [
        "clf_xgb=xgb.XGBClassifier(colsample_bytree=best_hyperparams['colsample_bytree'],gamma=best_hyperparams['gamma'],max_depth=int(best_hyperparams['max_depth']),min_child_weight=int(best_hyperparams['min_child_weight']),reg_alpha=int(best_hyperparams['reg_alpha']),reg_lambda=best_hyperparams['reg_lambda'])\n",
        "clf_xgb.fit(X_train,y_train)\n",
        "y_pred_xgb = clf_xgb.predict(X_test)"
      ],
      "execution_count": null,
      "outputs": []
    },
    {
      "cell_type": "code",
      "metadata": {
        "id": "nUB4hnr5IWyl"
      },
      "source": [
        "print(accuracy_score(y_test, y_pred_xgb))\n",
        "print(confusion_matrix(y_test,y_pred_xgb))"
      ],
      "execution_count": null,
      "outputs": []
    },
    {
      "cell_type": "markdown",
      "metadata": {
        "id": "5Hyq30P_BRIQ"
      },
      "source": [
        "# Evaluation"
      ]
    },
    {
      "cell_type": "code",
      "metadata": {
        "id": "XEhG1qFGBtGB"
      },
      "source": [
        "# For Metrics\n",
        "from sklearn.metrics import confusion_matrix\n",
        "from sklearn.metrics import plot_confusion_matrix\n",
        "from sklearn.metrics import accuracy_score\n",
        "from sklearn.metrics import roc_curve\n",
        "from sklearn.metrics import RocCurveDisplay\n",
        "from sklearn.metrics import roc_auc_score\n",
        "from sklearn.metrics import precision_recall_curve\n",
        "from sklearn.metrics import PrecisionRecallDisplay\n",
        "from sklearn.metrics import brier_score_loss\n",
        "import numpy.ma as ma\n",
        "from matplotlib.ticker import MultipleLocator\n",
        "from sklearn.metrics import auc, roc_curve\n",
        "from scipy import integrate\n",
        "from sklearn.neighbors import KernelDensity\n",
        "# Maybe More"
      ],
      "execution_count": null,
      "outputs": []
    },
    {
      "cell_type": "code",
      "metadata": {
        "id": "g-RJfxByBjDm"
      },
      "source": [
        "def plot_calibration_curve(bcc,y_true,y_pred,name='Calibration curve',min_samples=None,axis=None):\n",
        "    if axis is None:\n",
        "        axis = plt.figure(figsize=(5, 5)).add_subplot(111)\n",
        "    axis.set_title(name)\n",
        "    axis.plot([0, 100], [0, 100], ls='--', lw=1, color='grey')\n",
        "    axis.set_xlabel('Predicted probability')\n",
        "    axis.set_ylabel('True probability in each bin')\n",
        "    axis.set_xlim((0, 100))\n",
        "    axis.xaxis.set_major_locator(MultipleLocator(20))\n",
        "    axis.xaxis.set_minor_locator(MultipleLocator(10))\n",
        "    axis.set_ylim((0, 100))\n",
        "    axis.yaxis.set_major_locator(MultipleLocator(20))\n",
        "    axis.yaxis.set_minor_locator(MultipleLocator(10))\n",
        "    # axis.set_aspect(1)\n",
        "    axis.grid(which='both')\n",
        "    sample_probabilities = bcc[0]\n",
        "    predicted_pos_percents = bcc[1]\n",
        "    num_plays_used = bcc[2]\n",
        "\n",
        "    if min_samples is not None:\n",
        "        axis.plot(sample_probabilities,predicted_pos_percents,c='c',alpha=0.3)\n",
        "        sample_probabilities = ma.array(sample_probabilities)\n",
        "        sample_probabilities[num_plays_used < min_samples] = ma.masked\n",
        "        predicted_pos_percents = ma.array(predicted_pos_percents)\n",
        "        predicted_pos_percents[num_plays_used < min_samples] = ma.masked\n",
        "\n",
        "    max_deviation = bcc[3]\n",
        "    residual_area = bcc[4]\n",
        "\n",
        "    axis.plot(sample_probabilities,predicted_pos_percents,c='c',label='Calibration curve\\n(area = %0.2f, max dev = %0.2f)'% (residual_area, max_deviation))\n",
        "    axis.legend(loc='lower right')\n",
        "\n",
        "    ax2 = axis.twinx()\n",
        "    ax2.hist(y_pred * 100,bins=np.arange(0, 101, 1),density=True,alpha=0.4,facecolor='grey')\n",
        "    ax2.set_ylim([0, 0.2])\n",
        "    ax2.set_yticks([0, 0.1, 0.2])\n",
        "    plt.tight_layout()\n",
        "    return axis"
      ],
      "execution_count": null,
      "outputs": []
    },
    {
      "cell_type": "code",
      "metadata": {
        "id": "lR14ZENyBWOk"
      },
      "source": [
        "def plot_roc_curve(y_true, y_prob, name='Calibration curve', axis=None):\n",
        "\n",
        "    fpr, tpr, _ = roc_curve(y_true, y_prob)\n",
        "    roc_auc = auc(fpr, tpr)\n",
        "\n",
        "    if axis is None:\n",
        "        axis = plt.figure(figsize=(5, 5)).add_subplot(111)\n",
        "\n",
        "    axis.plot(fpr, tpr, linewidth=1, label='ROC curve (area = %0.2f)' % roc_auc)\n",
        "\n",
        "    # reference line, legends, and axis labels\n",
        "    axis.plot([0, 1], [0, 1], linestyle='--', color='gray')\n",
        "    axis.set_title('ROC curve')\n",
        "    axis.set_xlabel('False Positive Rate')\n",
        "    axis.set_ylabel('True Positive Rate')\n",
        "    axis.set_xlim(0, 1)\n",
        "    axis.xaxis.set_major_locator(MultipleLocator(0.20))\n",
        "    axis.xaxis.set_minor_locator(MultipleLocator(0.10))\n",
        "    axis.set_ylim(0, 1)\n",
        "    axis.yaxis.set_major_locator(MultipleLocator(0.20))\n",
        "    axis.yaxis.set_minor_locator(MultipleLocator(0.10))\n",
        "    axis.grid(which='both')\n",
        "    plt.gca().legend()\n",
        "    axis.legend(loc='lower right')\n",
        "    plt.tight_layout()"
      ],
      "execution_count": null,
      "outputs": []
    },
    {
      "cell_type": "code",
      "metadata": {
        "id": "MTOI_L-lBWlr"
      },
      "source": [
        "# y_test, y_pred (prob), y_score(Predicted Label)\n",
        "# y_pred = clf.predict_proba(X_test)\n",
        "# y_score = clf.predict(X_test)\n",
        "# model = Trained Model like clf =  LogisticRegression.fit()\n",
        "# X_test\n",
        "def run(model,X_test,y_test):\n",
        "    y_test = np.array(y_test,dtype=bool)\n",
        "    y_pred = model.predict_proba(X_test)\n",
        "    y_score = model.predict(X_test)\n",
        "    \n",
        "    y_pred = y_pred[:,1] \n",
        "    \n",
        "    #Accuracy\n",
        "    acc = accuracy_score(y_test, y_score)\n",
        "    \n",
        "    print(\"Confusion Matrix\")\n",
        "    # Confusion Matrix\n",
        "    # plot_confusion_matrix(model, X_test, y_test)  \n",
        "    # plt.show() \n",
        "    \n",
        "    #PR Graph\n",
        "    prec, recall, _ = precision_recall_curve(y_test, y_score)\n",
        "    # pr_display = PrecisionRecallDisplay(precision=prec, recall=recall,average_precision=None, estimator_name=None,clas)    \n",
        "    # Calibration Curve\n",
        "    n_bins = 100\n",
        "    bandwidth = 1 / n_bins\n",
        "\n",
        "    #Kernel Density Estimation\n",
        "    kde_pos = KernelDensity(kernel='gaussian', bandwidth=bandwidth).fit((y_pred[y_test])[:, np.newaxis])\n",
        "    kde_total = KernelDensity(kernel='gaussian', bandwidth=bandwidth).fit(y_pred[:, np.newaxis])\n",
        "    sample_probabilities = np.linspace(0.01, 0.99, 99)\n",
        "    # Finding Probability and scaling\n",
        "    number_density_offense_won = np.exp(kde_pos.score_samples(sample_probabilities[:, np.newaxis])) * np.sum((y_test))\n",
        "    number_density_total = np.exp(kde_total.score_samples(sample_probabilities[:, np.newaxis])) * len(y_test)\n",
        "    # Count of Each Bucket\n",
        "    number_pos = (number_density_offense_won* np.sum(y_test)/ np.sum(number_density_offense_won))\n",
        "    number_total = (number_density_total * len(y_test) / np.sum(number_density_total))\n",
        "    # Fraction of goals scored from attempts in each bucket\n",
        "    predicted_pos_percents = np.nan_to_num(number_pos / number_total, 1)\n",
        "    #Scaling to 100\n",
        "    sample_probabilities = 100.0 * sample_probabilities\n",
        "    predicted_goal_percents = 100.0 * predicted_pos_percents\n",
        "    num_shots_used = number_total\n",
        "    # Calculating Deviation and Residual Area\n",
        "    max_deviation = np.max(np.abs(predicted_goal_percents - sample_probabilities))\n",
        "    residual_area = integrate.trapz(np.abs(predicted_goal_percents - sample_probabilities),sample_probabilities)\n",
        "    \n",
        "    # ROC and Brier\n",
        "    roc = roc_auc_score(y_test, y_pred)\n",
        "    brier = brier_score_loss(y_test, y_pred)\n",
        "\n",
        "    # Gather Everything\n",
        "    gather = [sample_probabilities,predicted_goal_percents,num_shots_used,max_deviation,residual_area,roc,brier]\n",
        "\n",
        "    fig, ax = plt.subplots(1, 3, figsize=(15, 5))\n",
        "    plot_roc_curve(y_test,y_pred, axis=ax[0])\n",
        "    plot_calibration_curve(gather,y_test,y_pred,min_samples=100,axis=ax[1],)\n",
        "    ax[2].grid(which='both')\n",
        "    ax[2].set_title(\"Precision-Recall Graph\")\n",
        "    # pr_display.plot(ax=ax[2])\n",
        "    ax[2].plot(recall,prec)\n",
        "    print(\"Accuracy\",acc)\n",
        "    print(\"AUROC\",roc)\n",
        "    print(\"Brier Score\",brier)\n",
        "    print(\"Area of Residual Graph\",residual_area)\n",
        "    print(\"Maximum Deviation\", max_deviation)"
      ],
      "execution_count": null,
      "outputs": []
    },
    {
      "cell_type": "markdown",
      "metadata": {
        "id": "MruYesyfhb9V"
      },
      "source": [
        "# Results"
      ]
    },
    {
      "cell_type": "markdown",
      "metadata": {
        "id": "tlB9T5EMhlBN"
      },
      "source": [
        "Logistic Regression"
      ]
    },
    {
      "cell_type": "code",
      "metadata": {
        "id": "O0QFolCGgPmn"
      },
      "source": [
        "run(nn,X_test,y_test)"
      ],
      "execution_count": null,
      "outputs": []
    },
    {
      "cell_type": "code",
      "metadata": {
        "id": "z4wXUfpeXgcO"
      },
      "source": [
        "run(clf_lr,X_test,y_test) # Logistic regression "
      ],
      "execution_count": null,
      "outputs": []
    },
    {
      "cell_type": "markdown",
      "metadata": {
        "id": "kTadnjrGhnnt"
      },
      "source": [
        "Support Vector Classifier "
      ]
    },
    {
      "cell_type": "code",
      "metadata": {
        "id": "HoEe8-19hjz8"
      },
      "source": [
        "# run(clf_svc,X_test,y_test) # Support Vector Classifier"
      ],
      "execution_count": null,
      "outputs": []
    },
    {
      "cell_type": "markdown",
      "metadata": {
        "id": "BEsrFkm1iQZO"
      },
      "source": [
        "ADA Boost Classifier"
      ]
    },
    {
      "cell_type": "code",
      "metadata": {
        "id": "zT7FP6iFhnB6"
      },
      "source": [
        "run(clf_abc,X_test,y_test) # ADA Boost Classifier"
      ],
      "execution_count": null,
      "outputs": []
    },
    {
      "cell_type": "markdown",
      "metadata": {
        "id": "wek3ntWMiobz"
      },
      "source": [
        "XGBoost Classifier"
      ]
    },
    {
      "cell_type": "code",
      "metadata": {
        "id": "pHfZ1Skziqif"
      },
      "source": [
        "run(clf_xgb,X_test,y_test)"
      ],
      "execution_count": null,
      "outputs": []
    },
    {
      "cell_type": "code",
      "metadata": {
        "id": "Mwz4yWLU_Af7"
      },
      "source": [
        "from mlxtend.plotting import plot_learning_curves\n",
        "plot_learning_curves(X_train, y_train, X_test, y_test, clf_lr,scoring=\"roc_auc\") #{'accuracy', 'average_precision', 'f1_micro', 'f1_macro', 'f1_weighted', 'f1_samples', 'log_loss', 'precision', 'recall', 'roc_auc', 'adjusted_rand_score', 'mean_absolute_error', 'mean_squared_error', 'median_absolute_error', 'r2'}\n",
        "plt.show()"
      ],
      "execution_count": null,
      "outputs": []
    },
    {
      "cell_type": "code",
      "metadata": {
        "id": "QjA3h_HgAyNO"
      },
      "source": [
        "from mlxtend.plotting import plot_learning_curves\n",
        "plot_learning_curves(X_train, y_train, X_test, y_test, clf_xgb,scoring=\"roc_auc\") #{'accuracy', 'average_precision', 'f1_micro', 'f1_macro', 'f1_weighted', 'f1_samples', 'log_loss', 'precision', 'recall', 'roc_auc', 'adjusted_rand_score', 'mean_absolute_error', 'mean_squared_error', 'median_absolute_error', 'r2'}\n",
        "plt.show()"
      ],
      "execution_count": null,
      "outputs": []
    },
    {
      "cell_type": "code",
      "metadata": {
        "id": "Vx3Mx7fMBVLN"
      },
      "source": [
        "from mlxtend.plotting import plot_learning_curves\n",
        "plot_learning_curves(X_train, y_train, X_val, y_val, clf_xgb,scoring=\"roc_auc\") #{'accuracy', 'average_precision', 'f1_micro', 'f1_macro', 'f1_weighted', 'f1_samples', 'log_loss', 'precision', 'recall', 'roc_auc', 'adjusted_rand_score', 'mean_absolute_error', 'mean_squared_error', 'median_absolute_error', 'r2'}\n",
        "plt.show()"
      ],
      "execution_count": null,
      "outputs": []
    }
  ]
}